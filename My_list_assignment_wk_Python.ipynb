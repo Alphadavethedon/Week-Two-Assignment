{
  "nbformat": 4,
  "nbformat_minor": 0,
  "metadata": {
    "colab": {
      "provenance": []
    },
    "kernelspec": {
      "name": "python3",
      "display_name": "Python 3"
    },
    "language_info": {
      "name": "python"
    }
  },
  "cells": [
    {
      "cell_type": "code",
      "execution_count": 9,
      "metadata": {
        "colab": {
          "base_uri": "https://localhost:8080/",
          "height": 110
        },
        "id": "nQ3HCjG5BEHe",
        "outputId": "1d332085-3549-484c-908a-be32fb1e52af"
      },
      "outputs": [
        {
          "output_type": "error",
          "ename": "SyntaxError",
          "evalue": "invalid syntax (<ipython-input-9-911598820773>, line 25)",
          "traceback": [
            "\u001b[0;36m  File \u001b[0;32m\"<ipython-input-9-911598820773>\"\u001b[0;36m, line \u001b[0;32m25\u001b[0m\n\u001b[0;31m    My list.extend([10, 20, 30, 40])\u001b[0m\n\u001b[0m       ^\u001b[0m\n\u001b[0;31mSyntaxError\u001b[0m\u001b[0;31m:\u001b[0m invalid syntax\n"
          ]
        }
      ],
      "source": [
        "from typing import List\n",
        "from pickle import POP\n",
        "from typing import List\n",
        "from pickle import POP\n",
        "\n",
        "##Creating emtpy list\n",
        "My_list = []\n",
        "\n",
        "##Append the following elements to my_list: 10, 20, 30, 40.\n",
        "My_list.extend([10, 20, 30, 40])\n",
        "\n",
        "##Insert the value 15 at the second position in the list.\n",
        "My_list.insert(1, 15)\n",
        "##Extend my_list with another list: [50, 60, 70].\n",
        "My_list.extend([50, 60, 70])\n",
        "###Remove the last element from my_list.\n",
        "My_list.pop()\n",
        "\n",
        "##Sort my_list in ascending order.\n",
        "My_list.sort()\n",
        "\n",
        "##Find and print the index of the value 30 in my_list.\n",
        "index_30 = My_list.index(30)\n",
        "print(\"Index of 30:\", index_30)\n",
        "My list.extend([10, 20, 30, 40])\n",
        "\n",
        "##Insert the value 15 at the second position in the list.\n",
        "My_list.insert(1, 15)\n",
        "##Extend my_list with another list: [50, 60, 70].\n",
        "My_list.extend([50, 60, 70])\n",
        "###Remove the last element from my_list.\n",
        "My_list.pop()\n",
        "\n",
        "##Sort my_list in ascending order.\n",
        "My_list.sort()\n",
        "\n",
        "##Find and print the index of the value 30 in my_list.\n",
        "index_30 = My_list.index(30)\n",
        "print(\"Index of 30:\", index_30)"
      ]
    }
  ]
}